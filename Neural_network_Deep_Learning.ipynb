{
  "nbformat": 4,
  "nbformat_minor": 0,
  "metadata": {
    "colab": {
      "name": "Neural network-Deep Learning.ipynb",
      "provenance": [],
      "authorship_tag": "ABX9TyO/EvbJhgx1IO/q+ZWNgnWc",
      "include_colab_link": true
    },
    "kernelspec": {
      "name": "python3",
      "display_name": "Python 3"
    },
    "language_info": {
      "name": "python"
    }
  },
  "cells": [
    {
      "cell_type": "markdown",
      "metadata": {
        "id": "view-in-github",
        "colab_type": "text"
      },
      "source": [
        "<a href=\"https://colab.research.google.com/github/webdesigner-24/Neural-Network-Project/blob/main/Neural_network_Deep_Learning.ipynb\" target=\"_parent\"><img src=\"https://colab.research.google.com/assets/colab-badge.svg\" alt=\"Open In Colab\"/></a>"
      ]
    },
    {
      "cell_type": "code",
      "metadata": {
        "colab": {
          "base_uri": "https://localhost:8080/"
        },
        "id": "mldPqU-ECwrR",
        "outputId": "0e8ac5f9-f50e-44c1-8c22-c4c867a635c1"
      },
      "source": [
        "from keras.datasets import mnist\n",
        "\n",
        "data = mnist.load_data()\n",
        "((X_train,Y_train), (X_test, Y_test)) = data\n",
        "X_train = X_train.reshape((X_train.shape[0], 28*28)).astype('float32')\n",
        "X_test = X_test.reshape((X_test.shape[0], 28*28)).astype('float32')\n",
        "X_train = X_train / 255\n",
        "X_test = X_test / 255\n",
        "from keras.utils import np_utils\n",
        "\n",
        "print(Y_test.shape)\n",
        "\n",
        "Y_train = np_utils.to_categorical(Y_train)\n",
        "Y_test = np_utils.to_categorical(Y_test)\n",
        "\n",
        "num_classes = Y_test.shape[1]\n",
        "print(Y_test.shape)\n",
        "from keras.models import Sequential\n",
        "from keras.layers import Dense\n",
        "model = Sequential()\n",
        "\n",
        "model.add(Dense(32, input_dim=28*28, activation=\"relu\"))\n",
        "\n",
        "model.add(Dense(64, activation=\"relu\"))\n",
        "\n",
        "model.add(Dense(10, activation=\"softmax\"))\n",
        "model.compile(loss='categorical_crossentropy', optimizer='adam', metrics=['accuracy'])\n",
        "model.summary()\n",
        "model.fit(X_train, Y_train, epochs=10, batch_size=100)\n",
        "scores = model.evaluate(X_test, Y_test)\n",
        "print(scores)\n"
      ],
      "execution_count": 5,
      "outputs": [
        {
          "output_type": "stream",
          "text": [
            "(10000,)\n",
            "(10000, 10)\n",
            "Model: \"sequential\"\n",
            "_________________________________________________________________\n",
            "Layer (type)                 Output Shape              Param #   \n",
            "=================================================================\n",
            "dense (Dense)                (None, 32)                25120     \n",
            "_________________________________________________________________\n",
            "dense_1 (Dense)              (None, 64)                2112      \n",
            "_________________________________________________________________\n",
            "dense_2 (Dense)              (None, 10)                650       \n",
            "=================================================================\n",
            "Total params: 27,882\n",
            "Trainable params: 27,882\n",
            "Non-trainable params: 0\n",
            "_________________________________________________________________\n",
            "Epoch 1/10\n",
            "600/600 [==============================] - 1s 1ms/step - loss: 0.8081 - accuracy: 0.7597\n",
            "Epoch 2/10\n",
            "600/600 [==============================] - 1s 1ms/step - loss: 0.2027 - accuracy: 0.9416\n",
            "Epoch 3/10\n",
            "600/600 [==============================] - 1s 1ms/step - loss: 0.1566 - accuracy: 0.9541\n",
            "Epoch 4/10\n",
            "600/600 [==============================] - 1s 2ms/step - loss: 0.1299 - accuracy: 0.9621\n",
            "Epoch 5/10\n",
            "600/600 [==============================] - 1s 1ms/step - loss: 0.1140 - accuracy: 0.9665\n",
            "Epoch 6/10\n",
            "600/600 [==============================] - 1s 1ms/step - loss: 0.0963 - accuracy: 0.9713\n",
            "Epoch 7/10\n",
            "600/600 [==============================] - 1s 2ms/step - loss: 0.0835 - accuracy: 0.9749\n",
            "Epoch 8/10\n",
            "600/600 [==============================] - 1s 1ms/step - loss: 0.0786 - accuracy: 0.9771\n",
            "Epoch 9/10\n",
            "600/600 [==============================] - 1s 1ms/step - loss: 0.0703 - accuracy: 0.9779\n",
            "Epoch 10/10\n",
            "600/600 [==============================] - 1s 2ms/step - loss: 0.0629 - accuracy: 0.9805\n",
            "313/313 [==============================] - 0s 699us/step - loss: 0.1104 - accuracy: 0.9681\n",
            "[0.11038175225257874, 0.9681000113487244]\n"
          ],
          "name": "stdout"
        }
      ]
    }
  ]
}